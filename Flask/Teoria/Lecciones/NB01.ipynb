{
 "cells": [
  {
   "attachments": {},
   "cell_type": "markdown",
   "metadata": {},
   "source": [
    "## Mi Primera APP Flask"
   ]
  },
  {
   "attachments": {},
   "cell_type": "markdown",
   "metadata": {},
   "source": [
    "Antes de empezar tenemos que crear un entorno virtual"
   ]
  },
  {
   "attachments": {},
   "cell_type": "markdown",
   "metadata": {},
   "source": [
    "### ¿Por qué necesito crear otro entorno virtual?\n",
    "\n",
    "Para aislar nuestra aplicación junto con todas sus dependencias de otras aplicaciones Python que tengamos en nuestro sistema, de manera que las librerías de cada una de las aplicaciones no entren en conflicto."
   ]
  },
  {
   "attachments": {},
   "cell_type": "markdown",
   "metadata": {},
   "source": [
    "En este caso lo mas fácil es utilizar [`virtualenv`](https://pypi.org/project/virtualenv/)"
   ]
  },
  {
   "attachments": {},
   "cell_type": "markdown",
   "metadata": {},
   "source": [
    ">pip install virtualenv"
   ]
  },
  {
   "cell_type": "code",
   "execution_count": null,
   "metadata": {},
   "outputs": [],
   "source": [
    "!pip install virtualenv"
   ]
  },
  {
   "attachments": {},
   "cell_type": "markdown",
   "metadata": {},
   "source": [
    "Ahora vamos a crear nuestro entorno virtual"
   ]
  },
  {
   "attachments": {},
   "cell_type": "markdown",
   "metadata": {},
   "source": [
    "``Todo estos pasos se realizan en la terminal``"
   ]
  },
  {
   "attachments": {},
   "cell_type": "markdown",
   "metadata": {},
   "source": [
    "> virtualenv env"
   ]
  },
  {
   "attachments": {},
   "cell_type": "markdown",
   "metadata": {},
   "source": [
    "El **env** del código anterior es el nombre que queremos darle al entorno virtual"
   ]
  },
  {
   "attachments": {},
   "cell_type": "markdown",
   "metadata": {},
   "source": [
    "Lo siguiente seria activarlo\n",
    "\n",
    "- Linux/Mac:\n",
    "    > source env/bin/activate\n",
    "- Win:\n",
    "    > env\\Scripts\\activate.bat"
   ]
  },
  {
   "attachments": {},
   "cell_type": "markdown",
   "metadata": {},
   "source": [
    "Ahora Instalamos las librerías que necesitamos:\n",
    "> pip install Flask"
   ]
  },
  {
   "attachments": {},
   "cell_type": "markdown",
   "metadata": {},
   "source": [
    "Muy bien ya tenemos todo lo necesario para crear nuestra primera APP"
   ]
  },
  {
   "attachments": {},
   "cell_type": "markdown",
   "metadata": {},
   "source": [
    "[mi_primera_app](../App/app1.py)"
   ]
  },
  {
   "attachments": {},
   "cell_type": "markdown",
   "metadata": {},
   "source": [
    "<div>\n",
    "    <a href=\"../Flask.py\">\n",
    "        <img src=\"../img/return.png\" alt=\"return\" title=\"return\" width=\"75\" style=\"float: left;\" />\n",
    "    </a>\n",
    "    <a href=\"./NB02.ipynb\">\n",
    "        <img src=\"../img/forward.png\" alt=\"forward\" title=\"forward\" width=\"75\" style=\"float: right;\" />\n",
    "    </a>\n",
    "</div>"
   ]
  }
 ],
 "metadata": {
  "language_info": {
   "name": "python"
  },
  "orig_nbformat": 4
 },
 "nbformat": 4,
 "nbformat_minor": 2
}
