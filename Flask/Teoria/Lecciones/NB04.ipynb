{
 "cells": [
  {
   "attachments": {},
   "cell_type": "markdown",
   "metadata": {},
   "source": [
    "# CREAR UNA APLICACIÓN SENCILLA"
   ]
  },
  {
   "attachments": {},
   "cell_type": "markdown",
   "metadata": {},
   "source": [
    "Has entendido las diferentes partes y configuraciones de una aplicación web Flask en las secciones anteriores. Ahora es el momento de escribir la primera. En el siguiente ejemplo, el script de la aplicación define una instancia de aplicación, una única ruta y una única función de vista, como ya hemos dicho. \n",
    "Utilizaré Visual Studio Code, que tiene instalada la extensión Python. \n",
    "El primer paso es crear una carpeta de proyecto. La mía es firstapp. Nombra la tuya como quieras."
   ]
  },
  {
   "attachments": {},
   "cell_type": "markdown",
   "metadata": {},
   "source": [
    "Después de haber cd esa carpeta, crear un entorno virtual. Yo llamaré al mío env."
   ]
  },
  {
   "attachments": {},
   "cell_type": "markdown",
   "metadata": {},
   "source": [
    "> python -m venv env"
   ]
  },
  {
   "attachments": {},
   "cell_type": "markdown",
   "metadata": {},
   "source": [
    "Ahora, escriba el código en el Terminal y ejecútelo. Visual Studio Code se abrirá en una nueva ventana. Ahora, abra la carpeta de la aplicación en la nueva ventana de esta manera:"
   ]
  },
  {
   "attachments": {},
   "cell_type": "markdown",
   "metadata": {},
   "source": [
    "¿Puedes ver el nombre de tu entorno virtual en la esquina inferior izquierda? El mío tiene \"env\" como nombre de mi entorno virtual.\n",
    "\n",
    "Ahora que el entorno virtual está activo, instala Flask en el entorno virtual ejecutando pip install Flask en el Terminal."
   ]
  },
  {
   "attachments": {},
   "cell_type": "markdown",
   "metadata": {},
   "source": [
    "Cuando se inicia un símbolo del sistema independiente, ejecute env\\Scripts\\activar.bat para activar el medio ambiente. Debe comenzar con (env), indicando que está activado."
   ]
  },
  {
   "attachments": {},
   "cell_type": "markdown",
   "metadata": {},
   "source": [
    "[\"miapp.py\"](../App/app.py)"
   ]
  }
 ],
 "metadata": {
  "language_info": {
   "name": "python"
  },
  "orig_nbformat": 4
 },
 "nbformat": 4,
 "nbformat_minor": 2
}
